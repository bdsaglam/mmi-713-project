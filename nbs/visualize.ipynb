{
 "cells": [
  {
   "cell_type": "code",
   "execution_count": 1,
   "metadata": {},
   "outputs": [],
   "source": [
    "import pandas as pd\n",
    "from pathlib import Path"
   ]
  },
  {
   "cell_type": "code",
   "execution_count": 12,
   "metadata": {},
   "outputs": [],
   "source": [
    "def extract_information(file_path):\n",
    "    \"\"\"\n",
    "    Extracts the implementation type (CPU or GPU), the argument value from the filename,\n",
    "    and the execution time from the content of the file.\n",
    "    \"\"\"\n",
    "    # Extract implementation and number of docs from filename\n",
    "    parts = file_path.stem.split('-')  # split the stem part of the filename\n",
    "    implementation = parts[1].upper()  # Get 'GPU' or 'CPU' and make it uppercase\n",
    "    n_docs = int(parts[2])  # Convert the number of documents part to integer\n",
    "    \n",
    "    # Read execution time from file\n",
    "    with file_path.open('r') as file:\n",
    "        for line in file:\n",
    "            if \"Elapsed time:\" in line:\n",
    "                execution_time = float(line.split()[-2])  # Get the last second to last part assuming \"Elapsed time: X ms\"\n",
    "                break\n",
    "    \n",
    "    return dict(implementation=implementation, n_docs=n_docs, execution_time=execution_time)\n"
   ]
  },
  {
   "cell_type": "code",
   "execution_count": 13,
   "metadata": {},
   "outputs": [
    {
     "name": "stdout",
     "output_type": "stream",
     "text": [
      "  implementation  n_docs  execution_time\n",
      "0            GPU     100         229.766\n",
      "1            GPU      10         231.431\n",
      "2            CPU    1000          63.606\n",
      "3            GPU   10000         256.250\n",
      "4            CPU      10           0.925\n",
      "5            CPU     100          10.549\n",
      "6            CPU   10000         549.289\n",
      "7            GPU    1000         236.207\n"
     ]
    }
   ],
   "source": [
    "# Collect all txt files matching the pattern\n",
    "files = Path('../results/').glob('out-*.txt')\n",
    "\n",
    "# Extract information from each file and create a DataFrame\n",
    "data = [extract_information(file) for file in files]\n",
    "df = pd.DataFrame.from_records(data)\n",
    "\n",
    "print(df)"
   ]
  },
  {
   "cell_type": "code",
   "execution_count": 15,
   "metadata": {},
   "outputs": [
    {
     "data": {
      "text/html": [
       "<div>\n",
       "<style scoped>\n",
       "    .dataframe tbody tr th:only-of-type {\n",
       "        vertical-align: middle;\n",
       "    }\n",
       "\n",
       "    .dataframe tbody tr th {\n",
       "        vertical-align: top;\n",
       "    }\n",
       "\n",
       "    .dataframe thead th {\n",
       "        text-align: right;\n",
       "    }\n",
       "</style>\n",
       "<table border=\"1\" class=\"dataframe\">\n",
       "  <thead>\n",
       "    <tr style=\"text-align: right;\">\n",
       "      <th></th>\n",
       "      <th>implementation</th>\n",
       "      <th>n_docs</th>\n",
       "      <th>execution_time</th>\n",
       "    </tr>\n",
       "  </thead>\n",
       "  <tbody>\n",
       "    <tr>\n",
       "      <th>4</th>\n",
       "      <td>CPU</td>\n",
       "      <td>10</td>\n",
       "      <td>0.925</td>\n",
       "    </tr>\n",
       "    <tr>\n",
       "      <th>5</th>\n",
       "      <td>CPU</td>\n",
       "      <td>100</td>\n",
       "      <td>10.549</td>\n",
       "    </tr>\n",
       "    <tr>\n",
       "      <th>2</th>\n",
       "      <td>CPU</td>\n",
       "      <td>1000</td>\n",
       "      <td>63.606</td>\n",
       "    </tr>\n",
       "    <tr>\n",
       "      <th>6</th>\n",
       "      <td>CPU</td>\n",
       "      <td>10000</td>\n",
       "      <td>549.289</td>\n",
       "    </tr>\n",
       "    <tr>\n",
       "      <th>1</th>\n",
       "      <td>GPU</td>\n",
       "      <td>10</td>\n",
       "      <td>231.431</td>\n",
       "    </tr>\n",
       "    <tr>\n",
       "      <th>0</th>\n",
       "      <td>GPU</td>\n",
       "      <td>100</td>\n",
       "      <td>229.766</td>\n",
       "    </tr>\n",
       "    <tr>\n",
       "      <th>7</th>\n",
       "      <td>GPU</td>\n",
       "      <td>1000</td>\n",
       "      <td>236.207</td>\n",
       "    </tr>\n",
       "    <tr>\n",
       "      <th>3</th>\n",
       "      <td>GPU</td>\n",
       "      <td>10000</td>\n",
       "      <td>256.250</td>\n",
       "    </tr>\n",
       "  </tbody>\n",
       "</table>\n",
       "</div>"
      ],
      "text/plain": [
       "  implementation  n_docs  execution_time\n",
       "4            CPU      10           0.925\n",
       "5            CPU     100          10.549\n",
       "2            CPU    1000          63.606\n",
       "6            CPU   10000         549.289\n",
       "1            GPU      10         231.431\n",
       "0            GPU     100         229.766\n",
       "7            GPU    1000         236.207\n",
       "3            GPU   10000         256.250"
      ]
     },
     "execution_count": 15,
     "metadata": {},
     "output_type": "execute_result"
    }
   ],
   "source": [
    "df.sort_values(by=['implementation', 'n_docs'])"
   ]
  },
  {
   "cell_type": "code",
   "execution_count": null,
   "metadata": {},
   "outputs": [],
   "source": []
  }
 ],
 "metadata": {
  "kernelspec": {
   "display_name": "baris",
   "language": "python",
   "name": "python3"
  },
  "language_info": {
   "codemirror_mode": {
    "name": "ipython",
    "version": 3
   },
   "file_extension": ".py",
   "mimetype": "text/x-python",
   "name": "python",
   "nbconvert_exporter": "python",
   "pygments_lexer": "ipython3",
   "version": "3.10.14"
  }
 },
 "nbformat": 4,
 "nbformat_minor": 2
}
